{
 "cells": [
  {
   "cell_type": "code",
   "execution_count": 11,
   "metadata": {},
   "outputs": [
    {
     "name": "stdout",
     "output_type": "stream",
     "text": [
      "\n",
      "Never gonna give you up\n",
      "Never gonna let you down\n",
      "Never gonna run around and desert you\n",
      "False\n"
     ]
    }
   ],
   "source": [
    "#Exercise 6.1\n",
    "\n",
    "#Print out the words in square brackets\n",
    "\n",
    "# Distilling text.\n",
    "text = \"\"\"The quick, brown fox jumps over a lazy dog. DJs flock by when MTV ax quiz prog. \n",
    "Junk MTV quiz graced by fox whelps. [Never gonna ] Bawds jog, flick quartz, vex nymphs. \n",
    "[give you up\\n] Waltz, bad nymph, for quick jigs vex! Fox nymphs grab quick-jived waltz. \n",
    "Brick quiz whangs jumpy veldt fox. [Never ] Bright vixens jump; [gonna let ] dozy fowl \n",
    "quack. Quick wafting zephyrs vex bold Jim. Quick zephyrs blow, vexing daft Jim. Charged \n",
    "[you down\\n] fop blew my junk TV quiz. How quickly daft jumping zebras vex. Two driven \n",
    "jocks help fax my big quiz. Quick, Baz, get my woven flax jodhpurs! \"Now fax quiz Jack!\" \n",
    "my brave ghost pled. [Never ] Five quacking zephyrs jolt my wax bed. [gonna ] Flummoxed \n",
    "by job, kvetching W. zaps Iraq. Cozy sphinx waves quart jug of bad milk. [run around ] \n",
    "A very bad quack might jinx zippy fowls. Few quips galvanized the mock jury box. Quick \n",
    "brown dogs jump over the lazy fox. The jay, pig, fox, zebra, and my wolves quack! \n",
    "[and desert you] Blowzy red vixens fight for a quick jump. Joaquin Phoenix was gazed \n",
    "by MTV for luck. A wizard’s job is to vex chumps quickly in fog. Watch \"Jeopardy!\", \n",
    "Alex Trebek's fun TV quiz game.\"\"\"\n",
    "\n",
    "output_text = \"\\n\"\n",
    "\n",
    "for i in text:\n",
    "    if i == '[':\n",
    "        inside_brackets = True\n",
    "    elif i == ']':\n",
    "        inside_brackets = False\n",
    "    else:\n",
    "        if inside_brackets:\n",
    "            output_text += i\n",
    "print(output_text)\n"
   ]
  },
  {
   "cell_type": "code",
   "execution_count": 36,
   "metadata": {},
   "outputs": [
    {
     "name": "stdout",
     "output_type": "stream",
     "text": [
      "Initial alphabet:\tABCDEFGHIJKLMNOPQRSTUVWXYZ\n",
      "Shifting positions:\t13\n",
      "Shifted alphabet:\tNOPQRSTUVWXYZABCDEFGHIJKLM\n",
      "None\n"
     ]
    }
   ],
   "source": [
    "#Exercise 6.2\n",
    "\n",
    "letters = \"ABCDEFGHIJKLMNOPQRSTUVWXYZ\"\n",
    "shift_value = 13\n",
    "\n",
    "def shifter(msg,key):\n",
    "    \n",
    "    print(f\"Initial alphabet:\\t{msg}\")\n",
    "    print(f\"Shifting positions:\\t{key}\")\n",
    "    \n",
    "    new_msg = []\n",
    "    \n",
    "    for i, char in enumerate(msg):\n",
    "        new_pos = (i + key) % len(msg)\n",
    "        new_msg.append(msg[new_pos])\n",
    "        \n",
    "    print(f\"Shifted alphabet:\\t{''.join(new_msg)}\")\n",
    "    \n",
    "print(shifter(letters, shift_value))\n",
    "\n",
    "\n"
   ]
  },
  {
   "cell_type": "code",
   "execution_count": 72,
   "metadata": {},
   "outputs": [
    {
     "data": {
      "text/plain": [
       "3"
      ]
     },
     "execution_count": 72,
     "metadata": {},
     "output_type": "execute_result"
    }
   ],
   "source": [
    "text = \"\"\"How much wood would a woodchuck chuck\n",
    "If a woodchuck could chuck wood?\n",
    "He would chuck, he would, as much as he could,\n",
    "And chuck as much as a woodchuck would\n",
    "If a Mr. Smith could chuck wood\\n\\r\\t.\"\"\"\n",
    "\n",
    "# Counting wood.\n",
    "\n",
    "def wood_counter(text):\n",
    "    \n",
    "    text = text.replace(\"?\", \"\").replace(\".\",\"\")\n",
    "    \n",
    "    l = text.lower().strip().split()\n",
    "    \n",
    "    counter = 0\n",
    "    for i in l:\n",
    "        if i == \"wood\":\n",
    "            counter +=1\n",
    "    return counter\n",
    "\n",
    "wood_counter(text)\n"
   ]
  },
  {
   "cell_type": "code",
   "execution_count": null,
   "metadata": {},
   "outputs": [],
   "source": []
  }
 ],
 "metadata": {
  "kernelspec": {
   "display_name": "Python 3",
   "language": "python",
   "name": "python3"
  },
  "language_info": {
   "codemirror_mode": {
    "name": "ipython",
    "version": 3
   },
   "file_extension": ".py",
   "mimetype": "text/x-python",
   "name": "python",
   "nbconvert_exporter": "python",
   "pygments_lexer": "ipython3",
   "version": "3.8.3"
  }
 },
 "nbformat": 4,
 "nbformat_minor": 4
}
